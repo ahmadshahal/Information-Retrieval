{
 "cells": [
  {
   "cell_type": "code",
   "execution_count": 1,
   "metadata": {},
   "outputs": [],
   "source": [
    "from pathlib import Path\n",
    "import sys, os\n",
    "libs_path = (Path(os.path.abspath(os.path.join('..'))).parent)\n",
    "sys.path.append(str(libs_path))\n",
    "\n",
    "from libs.corpus import get_corpus\n",
    "from libs import storage\n",
    "import requests\n",
    "from flask import jsonify\n",
    "\n",
    "from sklearn.feature_extraction.text import TfidfVectorizer\n"
   ]
  },
  {
   "cell_type": "code",
   "execution_count": 2,
   "metadata": {},
   "outputs": [],
   "source": [
    "def _process_corpus(corpus: dict[str, str], dataset_name: str) -> list:\n",
    "    processed_docs = []\n",
    "    for doc_key, doc_value in corpus.items():\n",
    "        response = requests.get(f'http://127.0.0.1:8000/process-text?dataset={dataset_name}&text={doc_value}')\n",
    "        response.raise_for_status()\n",
    "        processed_doc_terms = response.json()\n",
    "\n",
    "        joined = ' '.join(processed_doc_terms)\n",
    "        processed_docs.append(joined)\n",
    "    return processed_docs\n",
    "\n",
    "\n",
    "def build_save_vectorizer(dataset_name: str):\n",
    "    corpus = get_corpus(dataset_name)\n",
    "    processed_corpus = _process_corpus(corpus, dataset_name)\n",
    "\n",
    "    vectorizer = TfidfVectorizer()\n",
    "    tfidf_matrix = vectorizer.fit_transform(processed_corpus)\n",
    "\n",
    "    storage.save_vectorizer(vectorizer, dataset_name)\n",
    "    storage.save_tfidf_matrix(tfidf_matrix, dataset_name)\n",
    "\n"
   ]
  },
  {
   "cell_type": "code",
   "execution_count": 4,
   "metadata": {},
   "outputs": [],
   "source": [
    "# build_save_vectorizer(\"lifestyle\")\n",
    "# build_save_vectorizer(\"lifestyle-queries\")\n",
    "# build_save_vectorizer(\"antique\")\n",
    "# build_save_vectorizer(\"quora\")\n",
    "build_save_vectorizer(\"antique-queries\")"
   ]
  }
 ],
 "metadata": {
  "kernelspec": {
   "display_name": "base",
   "language": "python",
   "name": "python3"
  },
  "language_info": {
   "codemirror_mode": {
    "name": "ipython",
    "version": 3
   },
   "file_extension": ".py",
   "mimetype": "text/x-python",
   "name": "python",
   "nbconvert_exporter": "python",
   "pygments_lexer": "ipython3",
   "version": "3.11.7"
  }
 },
 "nbformat": 4,
 "nbformat_minor": 2
}
