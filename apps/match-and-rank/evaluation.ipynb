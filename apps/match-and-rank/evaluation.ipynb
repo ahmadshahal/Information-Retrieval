{
 "cells": [
  {
   "cell_type": "code",
   "execution_count": 2,
   "metadata": {},
   "outputs": [],
   "source": [
    "from pathlib import Path\n",
    "import sys\n",
    "\n",
    "sys.path.append(str(Path(__file__).parents[2]))\n",
    "\n",
    "from typing import Dict\n",
    "\n",
    "import ir_datasets\n",
    "\n",
    "from ir_measures import *\n",
    "from match_and_rank import match_and_rank, clustering_match_and_rank\n",
    "\n",
    "import ir_measures"
   ]
  },
  {
   "cell_type": "code",
   "execution_count": null,
   "metadata": {},
   "outputs": [],
   "source": [
    "def __get_queries_corpus(dataset_name: str) -> Dict[str, str]:\n",
    "    if dataset_name == \"lifestyle\":\n",
    "        queries_corpus = dict(ir_datasets.load(\"lotte/lifestyle/dev/search\").queries_iter())\n",
    "    elif dataset_name == \"quora\":\n",
    "        queries_corpus = dict(list(ir_datasets.load(\"beir/quora/dev\").queries_iter()))\n",
    "    else:\n",
    "        queries_corpus = dict(ir_datasets.load(\"antique/test\").queries_iter())\n",
    "    return queries_corpus\n",
    "\n",
    "\n",
    "def __get_qrels_corpus(dataset_name: str):\n",
    "    if dataset_name == \"lifestyle\":\n",
    "        qrels_corpus = list(ir_datasets.load(\"lotte/lifestyle/dev/search\").qrels_iter())\n",
    "    elif dataset_name == \"quora\":\n",
    "        qrels_corpus = list(ir_datasets.load(\"beir/quora/dev\").qrels_iter())\n",
    "    else:\n",
    "        qrels_corpus = list(ir_datasets.load(\"antique/test\").qrels_iter())\n",
    "    return qrels_corpus"
   ]
  },
  {
   "cell_type": "code",
   "execution_count": null,
   "metadata": {},
   "outputs": [],
   "source": [
    "def _get_ground_truth(dataset_name: str):\n",
    "    queries_corpus = __get_queries_corpus(dataset_name)\n",
    "    qrels_corpus = __get_qrels_corpus(dataset_name)\n",
    "    ground_truth = {}\n",
    "    for query_id, query in queries_corpus.items():\n",
    "        relevant_docs = [(item.doc_id, item.relevance) for item in qrels_corpus if item.query_id == query_id]\n",
    "        ground_truth[query_id] = dict(relevant_docs)\n",
    "    return ground_truth\n",
    "\n",
    "\n",
    "def _get_search_results(dataset_name: str):\n",
    "    search_results = {}\n",
    "    queries_corpus = __get_queries_corpus(dataset_name)\n",
    "    for query_id, query in queries_corpus.items():\n",
    "        print(f'Evaluating query {query_id}')\n",
    "        results = match_and_rank(query, dataset_name)\n",
    "        relevance_documents = [(doc_id, score) for doc_id, score in results.items()]\n",
    "        search_results[query_id] = dict(relevance_documents)\n",
    "    return search_results\n",
    "\n",
    "def _get_clustering_search_results(dataset_name: str):\n",
    "    search_results = {}\n",
    "    queries_corpus = __get_queries_corpus(dataset_name)\n",
    "    for query_id, query in queries_corpus.items():\n",
    "        results = clustering_match_and_rank(query, dataset_name)\n",
    "        relevance_documents = [(doc_id, score) for doc_id, score in results.items()]\n",
    "        search_results[query_id] = dict(relevance_documents)\n",
    "    return search_results\n"
   ]
  },
  {
   "cell_type": "code",
   "execution_count": null,
   "metadata": {},
   "outputs": [],
   "source": [
    "def evaluate(dataset_name: str):\n",
    "    ground_truth = _get_ground_truth(dataset_name)\n",
    "    search_results = _get_search_results(dataset_name)\n",
    "    # search_results = _get_clustering_search_results(dataset_name)\n",
    "\n",
    "    evaluation_results = ir_measures.calc_aggregate([AP@10, AP, RR, P@10, R@5, R@10], ground_truth, search_results)\n",
    "    print(evaluation_results)\n",
    "\n",
    "\n",
    "evaluate(\"antique\")\n",
    "# {RR: 0.7677160258293952, R@5: 0.082357640324396, AP: 0.2327276313698704, AP@10: 0.1081760933984333, P@10: 0.4035, R@10: 0.13560506468405845}\n",
    "\n",
    "# evaluate(\"lifestyle\")\n",
    "# {R@5: 0.23039524424416508, AP: 0.19285465840698576, P@10: 0.07985611510791388, R@10: 0.2868326584153922, AP@10: 0.17339461801684886, RR: 0.31360187349523133}\n",
    "\n",
    "# evaluate(\"quora\")\n",
    "# {P@5: 0.2030800000000148, R@10: 0.8474052904415849, AP@10: 0.6943854334314166, P@3: 0.3047999999999872, P@10: 0.11340000000000916, Success@10: 0.8908, RR: 0.7378057802071185}\n"
   ]
  }
 ],
 "metadata": {
  "kernelspec": {
   "display_name": "Python 3",
   "language": "python",
   "name": "python3"
  },
  "language_info": {
   "codemirror_mode": {
    "name": "ipython",
    "version": 3
   },
   "file_extension": ".py",
   "mimetype": "text/x-python",
   "name": "python",
   "nbconvert_exporter": "python",
   "pygments_lexer": "ipython3",
   "version": "3.11.7"
  }
 },
 "nbformat": 4,
 "nbformat_minor": 2
}
