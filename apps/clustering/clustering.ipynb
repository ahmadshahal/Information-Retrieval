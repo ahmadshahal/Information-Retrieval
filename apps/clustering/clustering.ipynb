{
 "cells": [
  {
   "cell_type": "code",
   "execution_count": 2,
   "metadata": {},
   "outputs": [],
   "source": [
    "from pathlib import Path\n",
    "import sys, os\n",
    "libs_path = (Path(os.path.abspath(os.path.join('..'))).parent)\n",
    "sys.path.append(str(libs_path))"
   ]
  },
  {
   "cell_type": "code",
   "execution_count": 3,
   "metadata": {},
   "outputs": [],
   "source": [
    "\n",
    "from sklearn.cluster import KMeans\n",
    "import numpy as np\n",
    "from libs import corpus\n",
    "from libs import storage\n"
   ]
  },
  {
   "cell_type": "code",
   "execution_count": null,
   "metadata": {},
   "outputs": [],
   "source": [
    "dataset_name = 'antique'\n",
    "# dataset_name = 'life-style'\n",
    "loaded_tfidf_matrix = storage.get_tfidf_matrix(dataset_name)\n",
    "\n",
    "k_means = KMeans(n_clusters=25)\n",
    "clusters = k_means.fit_predict(loaded_tfidf_matrix)\n",
    "\n",
    "counts = np.bincount(clusters)\n",
    "for i, count in enumerate(counts):\n",
    "    print(f'Cluster {i} has {count} vectors')\n",
    "\n",
    "storage.save_means(k_means, dataset_name=dataset_name)\n",
    "storage.save_clusters(clusters=clusters, dataset_name=dataset_name)"
   ]
  },
  {
   "cell_type": "code",
   "execution_count": null,
   "metadata": {},
   "outputs": [],
   "source": [
    "from sklearn.decomposition import PCA\n",
    "import matplotlib.pyplot as plt\n",
    "from sklearn.decomposition import TruncatedSVD\n",
    "svd = TruncatedSVD(n_components=2, random_state=42)\n",
    "reduced_data = svd.fit_transform(loaded_tfidf_matrix)\n",
    "\n",
    "# Plot the clusters\n",
    "plt.figure(figsize=(12, 8))\n",
    "scatter = plt.scatter(reduced_data[:, 0], reduced_data[:, 1], c=clusters, cmap='viridis', alpha=0.6)\n",
    "plt.colorbar(scatter, ticks=range(25))\n",
    "plt.xlabel('SVD Component 1')\n",
    "plt.ylabel('SVD Component 2')\n",
    "plt.title(f'2D Visualization of Clusters for {dataset_name} Dataset')\n",
    "plt.show()"
   ]
  }
 ],
 "metadata": {
  "kernelspec": {
   "display_name": "Python 3",
   "language": "python",
   "name": "python3"
  },
  "language_info": {
   "codemirror_mode": {
    "name": "ipython",
    "version": 3
   },
   "file_extension": ".py",
   "mimetype": "text/x-python",
   "name": "python",
   "nbconvert_exporter": "python",
   "pygments_lexer": "ipython3",
   "version": "3.10.6"
  }
 },
 "nbformat": 4,
 "nbformat_minor": 2
}
